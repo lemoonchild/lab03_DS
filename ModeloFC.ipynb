{
  "nbformat": 4,
  "nbformat_minor": 0,
  "metadata": {
    "colab": {
      "provenance": [],
      "gpuType": "T4"
    },
    "kernelspec": {
      "name": "python3",
      "display_name": "Python 3"
    },
    "language_info": {
      "name": "python"
    },
    "accelerator": "GPU"
  },
  "cells": [
    {
      "cell_type": "code",
      "execution_count": 2,
      "metadata": {
        "id": "GWRQaRcryx3K"
      },
      "outputs": [],
      "source": [
        "import torch\n",
        "import kagglehub\n",
        "import os\n",
        "import matplotlib.pyplot as plt\n",
        "from PIL import Image\n",
        "import pandas as pd\n",
        "from torch.utils.data import Dataset\n",
        "import torch\n",
        "import torchvision.transforms as transforms\n",
        "from torch.utils.data import DataLoader\n",
        "import torch.nn as nn\n",
        "import torch.nn.functional as F\n",
        "import torch.optim as optim\n",
        "import random"
      ]
    },
    {
      "cell_type": "code",
      "source": [
        "DEVICE   = \"cuda\" if torch.cuda.is_available() else \"cpu\"\n",
        "print(f\"Using device: {DEVICE}\")"
      ],
      "metadata": {
        "colab": {
          "base_uri": "https://localhost:8080/"
        },
        "id": "iH7c6qDB079G",
        "outputId": "8b970f25-376b-4924-ecf4-651671469fff"
      },
      "execution_count": 3,
      "outputs": [
        {
          "output_type": "stream",
          "name": "stdout",
          "text": [
            "Using device: cuda\n"
          ]
        }
      ]
    },
    {
      "cell_type": "code",
      "source": [
        "# Download latest version\n",
        "path = kagglehub.dataset_download(\"agungpambudi/mnist-multiple-dataset-comprehensive-analysis\")\n",
        "\n",
        "print(\"Path to dataset files:\", path)"
      ],
      "metadata": {
        "colab": {
          "base_uri": "https://localhost:8080/"
        },
        "id": "5Eht6gIj09P5",
        "outputId": "1657b525-89c8-4cfa-b619-37109578553d"
      },
      "execution_count": 4,
      "outputs": [
        {
          "output_type": "stream",
          "name": "stdout",
          "text": [
            "Path to dataset files: /kaggle/input/mnist-multiple-dataset-comprehensive-analysis\n"
          ]
        }
      ]
    },
    {
      "cell_type": "code",
      "source": [
        "dataset_path = \"/kaggle/input/mnist-multiple-dataset-comprehensive-analysis\"\n",
        "count = 0\n",
        "\n",
        "for root, dirs, files in os.walk(dataset_path):\n",
        "    if count >= 10:\n",
        "        break\n",
        "    for file in files:\n",
        "        if file.endswith(\".png\"):\n",
        "            print(\"Rutas encontradas con las imagenes\")\n",
        "            print(\"-\", os.path.join(root, file))\n",
        "            count += 1\n",
        "            if count >= 10:\n",
        "                break"
      ],
      "metadata": {
        "colab": {
          "base_uri": "https://localhost:8080/"
        },
        "id": "YxtsIzk_0-Xm",
        "outputId": "c76066a8-d4d6-4501-9d7a-3f35b7154ec7"
      },
      "execution_count": 5,
      "outputs": [
        {
          "output_type": "stream",
          "name": "stdout",
          "text": [
            "Rutas encontradas con las imagenes\n",
            "- /kaggle/input/mnist-multiple-dataset-comprehensive-analysis/PolyMNIST/MMNIST/test/m4/428.0.png\n",
            "Rutas encontradas con las imagenes\n",
            "- /kaggle/input/mnist-multiple-dataset-comprehensive-analysis/PolyMNIST/MMNIST/test/m4/41.7.png\n",
            "Rutas encontradas con las imagenes\n",
            "- /kaggle/input/mnist-multiple-dataset-comprehensive-analysis/PolyMNIST/MMNIST/test/m4/654.5.png\n",
            "Rutas encontradas con las imagenes\n",
            "- /kaggle/input/mnist-multiple-dataset-comprehensive-analysis/PolyMNIST/MMNIST/test/m4/604.7.png\n",
            "Rutas encontradas con las imagenes\n",
            "- /kaggle/input/mnist-multiple-dataset-comprehensive-analysis/PolyMNIST/MMNIST/test/m4/740.0.png\n",
            "Rutas encontradas con las imagenes\n",
            "- /kaggle/input/mnist-multiple-dataset-comprehensive-analysis/PolyMNIST/MMNIST/test/m4/188.3.png\n",
            "Rutas encontradas con las imagenes\n",
            "- /kaggle/input/mnist-multiple-dataset-comprehensive-analysis/PolyMNIST/MMNIST/test/m4/541.8.png\n",
            "Rutas encontradas con las imagenes\n",
            "- /kaggle/input/mnist-multiple-dataset-comprehensive-analysis/PolyMNIST/MMNIST/test/m4/160.8.png\n",
            "Rutas encontradas con las imagenes\n",
            "- /kaggle/input/mnist-multiple-dataset-comprehensive-analysis/PolyMNIST/MMNIST/test/m4/908.2.png\n",
            "Rutas encontradas con las imagenes\n",
            "- /kaggle/input/mnist-multiple-dataset-comprehensive-analysis/PolyMNIST/MMNIST/test/m4/840.8.png\n"
          ]
        }
      ]
    },
    {
      "cell_type": "code",
      "source": [
        "train_path = os.path.join(dataset_path, \"PolyMNIST\", \"MMNIST\", \"train\")\n",
        "modalities = [d for d in os.listdir(train_path) if os.path.isdir(os.path.join(train_path, d))]\n",
        "print(\"Modalidades encontradas:\", modalities)"
      ],
      "metadata": {
        "colab": {
          "base_uri": "https://localhost:8080/"
        },
        "id": "5-KOrCDd1AGi",
        "outputId": "03d601f9-c755-47d2-da46-dfb6961c542e"
      },
      "execution_count": 6,
      "outputs": [
        {
          "output_type": "stream",
          "name": "stdout",
          "text": [
            "Modalidades encontradas: ['m4', 'm2', 'm0', 'm1', 'm3']\n"
          ]
        }
      ]
    },
    {
      "cell_type": "code",
      "source": [
        "dataset_path = \"/kaggle/input/mnist-multiple-dataset-comprehensive-analysis\"\n",
        "base_path = os.path.join(dataset_path, \"PolyMNIST\", \"MMNIST\")\n",
        "\n",
        "data = []\n",
        "\n",
        "for split in [\"train\", \"test\"]:\n",
        "    split_path = os.path.join(base_path, split)\n",
        "    if not os.path.exists(split_path):\n",
        "        continue\n",
        "    for modality in os.listdir(split_path):\n",
        "        modality_path = os.path.join(split_path, modality)\n",
        "        if not os.path.isdir(modality_path):\n",
        "            continue\n",
        "        for file in os.listdir(modality_path):\n",
        "            if file.endswith(\".png\"):\n",
        "                try:\n",
        "                    label = int(file.split(\".\")[1])  # Ej: 1234.5.png → 5\n",
        "                    full_path = os.path.join(modality_path, file)\n",
        "                    data.append({\n",
        "                        \"file_path\": full_path,\n",
        "                        \"label\": label,\n",
        "                        \"modality\": modality,\n",
        "                        \"split\": split\n",
        "                    })\n",
        "                except Exception as e:\n",
        "                    print(f\"Error con archivo: {file} → {e}\")\n",
        "\n",
        "df = pd.DataFrame(data)\n",
        "print(\"DataFrame generado con\", len(df), \"registros.\")\n",
        "print(df.head())"
      ],
      "metadata": {
        "colab": {
          "base_uri": "https://localhost:8080/"
        },
        "id": "MA-4aJko1CQd",
        "outputId": "a6b0c9f8-ebb6-4a86-be93-849c55fe4759"
      },
      "execution_count": 7,
      "outputs": [
        {
          "output_type": "stream",
          "name": "stdout",
          "text": [
            "DataFrame generado con 350000 registros.\n",
            "                                           file_path  label modality  split\n",
            "0  /kaggle/input/mnist-multiple-dataset-comprehen...      9       m4  train\n",
            "1  /kaggle/input/mnist-multiple-dataset-comprehen...      0       m4  train\n",
            "2  /kaggle/input/mnist-multiple-dataset-comprehen...      0       m4  train\n",
            "3  /kaggle/input/mnist-multiple-dataset-comprehen...      9       m4  train\n",
            "4  /kaggle/input/mnist-multiple-dataset-comprehen...      9       m4  train\n"
          ]
        }
      ]
    },
    {
      "cell_type": "code",
      "source": [
        "class PolyMNISTDataset(Dataset):\n",
        "    def __init__(self, df, transform=None):\n",
        "        self.df = df.reset_index(drop=True)\n",
        "        self.transform = transform\n",
        "\n",
        "    def __len__(self):\n",
        "        return len(self.df)\n",
        "\n",
        "    def __getitem__(self, idx):\n",
        "        img_path = self.df.loc[idx, 'file_path']\n",
        "        label = self.df.loc[idx, 'label']\n",
        "        image = Image.open(img_path).convert('RGB')\n",
        "        if self.transform:\n",
        "            image = self.transform(image)\n",
        "        return image, label"
      ],
      "metadata": {
        "id": "fmFFVc7w1G-o"
      },
      "execution_count": 8,
      "outputs": []
    },
    {
      "cell_type": "code",
      "source": [
        "transform = transforms.Compose([\n",
        "    transforms.Resize((28, 28)),\n",
        "    transforms.ToTensor(),\n",
        "    transforms.Normalize((0.5, 0.5, 0.5), (0.5, 0.5, 0.5))\n",
        "])\n",
        "\n",
        "train_df = df[df['split'] == 'train']\n",
        "test_df = df[df['split'] == 'test']\n",
        "\n",
        "train_dataset = PolyMNISTDataset(train_df, transform)\n",
        "test_dataset = PolyMNISTDataset(test_df, transform)\n",
        "\n",
        "train_loader = DataLoader(train_dataset, batch_size=64, shuffle=True, num_workers=4, pin_memory=True)\n",
        "test_loader = DataLoader(test_dataset, batch_size=64, shuffle=False, num_workers=4, pin_memory=True)"
      ],
      "metadata": {
        "colab": {
          "base_uri": "https://localhost:8080/"
        },
        "id": "lu0uMmGY1HpF",
        "outputId": "53f716d9-07c5-40bc-c7c5-999d04de9d45"
      },
      "execution_count": 9,
      "outputs": [
        {
          "output_type": "stream",
          "name": "stderr",
          "text": [
            "/usr/local/lib/python3.11/dist-packages/torch/utils/data/dataloader.py:624: UserWarning: This DataLoader will create 4 worker processes in total. Our suggested max number of worker in current system is 2, which is smaller than what this DataLoader is going to create. Please be aware that excessive worker creation might get DataLoader running slow or even freeze, lower the worker number to avoid potential slowness/freeze if necessary.\n",
            "  warnings.warn(\n"
          ]
        }
      ]
    },
    {
      "cell_type": "markdown",
      "source": [
        "### Red Fully-Connected"
      ],
      "metadata": {
        "id": "QR2oxegvDBYg"
      }
    },
    {
      "cell_type": "code",
      "source": [
        "class FCNet(nn.Module):\n",
        "    def __init__(self, input_dim=28*28*3, hidden_dims=[1024, 512], num_classes=10, p_drop=0.2):\n",
        "        super().__init__()\n",
        "        self.fc1 = nn.Linear(input_dim, hidden_dims[0])\n",
        "        self.fc2 = nn.Linear(hidden_dims[0], hidden_dims[1])\n",
        "        self.fc3 = nn.Linear(hidden_dims[1], num_classes)\n",
        "        self.dropout = nn.Dropout(p_drop)\n",
        "\n",
        "    def forward(self, x):\n",
        "        # x: [B, 3, 28, 28] → [B, 2352]\n",
        "        x = x.view(x.size(0), -1)\n",
        "        x = F.relu(self.fc1(x))\n",
        "        x = self.dropout(x)\n",
        "        x = F.relu(self.fc2(x))\n",
        "        x = self.dropout(x)\n",
        "        x = self.fc3(x)\n",
        "        return x\n",
        "\n",
        "model = FCNet().to(DEVICE)\n",
        "print(model)\n"
      ],
      "metadata": {
        "colab": {
          "base_uri": "https://localhost:8080/"
        },
        "id": "OOzMEfRw16_V",
        "outputId": "70b5ef01-c6cd-4396-d39d-8f5cf0f85282"
      },
      "execution_count": 10,
      "outputs": [
        {
          "output_type": "stream",
          "name": "stdout",
          "text": [
            "FCNet(\n",
            "  (fc1): Linear(in_features=2352, out_features=1024, bias=True)\n",
            "  (fc2): Linear(in_features=1024, out_features=512, bias=True)\n",
            "  (fc3): Linear(in_features=512, out_features=10, bias=True)\n",
            "  (dropout): Dropout(p=0.2, inplace=False)\n",
            ")\n"
          ]
        }
      ]
    },
    {
      "cell_type": "markdown",
      "source": [
        "## Pérdida y optimizador"
      ],
      "metadata": {
        "id": "U_mazF59DFPO"
      }
    },
    {
      "cell_type": "code",
      "source": [
        "criterion = nn.CrossEntropyLoss()\n",
        "optimizer = optim.Adam(model.parameters(), lr=1e-3)\n"
      ],
      "metadata": {
        "id": "EbqSii1c1-BN"
      },
      "execution_count": 11,
      "outputs": []
    },
    {
      "cell_type": "markdown",
      "source": [
        "## Bucle de entrenamiento y validación"
      ],
      "metadata": {
        "id": "wSL63_-oDIlP"
      }
    },
    {
      "cell_type": "code",
      "source": [
        "num_epochs = 10\n",
        "\n",
        "history = {\"train_loss\": [], \"train_acc\": [], \"val_loss\": [], \"val_acc\": []}\n",
        "\n",
        "for epoch in range(1, num_epochs+1):\n",
        "    # ——— Entrenamiento ———\n",
        "    model.train()\n",
        "    running_loss, running_correct = 0.0, 0\n",
        "    for imgs, labels in train_loader:\n",
        "        imgs, labels = imgs.to(DEVICE), labels.to(DEVICE)\n",
        "        optimizer.zero_grad()\n",
        "        outputs = model(imgs)\n",
        "        loss = criterion(outputs, labels)\n",
        "        loss.backward()\n",
        "        optimizer.step()\n",
        "\n",
        "        running_loss    += loss.item() * imgs.size(0)\n",
        "        running_correct += (outputs.argmax(1) == labels).sum().item()\n",
        "\n",
        "    train_loss = running_loss / len(train_loader.dataset)\n",
        "    train_acc  = running_correct / len(train_loader.dataset) * 100\n",
        "\n",
        "    # ——— Validación ———\n",
        "    model.eval()\n",
        "    val_loss, val_correct = 0.0, 0\n",
        "    with torch.no_grad():\n",
        "        for imgs, labels in test_loader:\n",
        "            imgs, labels = imgs.to(DEVICE), labels.to(DEVICE)\n",
        "            outputs = model(imgs)\n",
        "            val_loss    += criterion(outputs, labels).item() * imgs.size(0)\n",
        "            val_correct += (outputs.argmax(1) == labels).sum().item()\n",
        "    val_loss /= len(test_loader.dataset)\n",
        "    val_acc  = val_correct / len(test_loader.dataset) * 100\n",
        "\n",
        "    # ——— Guardar historial ———\n",
        "    history[\"train_loss\"].append(train_loss)\n",
        "    history[\"train_acc\"].append(train_acc)\n",
        "    history[\"val_loss\"].append(val_loss)\n",
        "    history[\"val_acc\"].append(val_acc)\n",
        "\n",
        "    print(f\"Epoch {epoch}/{num_epochs} — \"\n",
        "          f\"Train: loss={train_loss:.4f}, acc={train_acc:.2f}% | \"\n",
        "          f\"Val: loss={val_loss:.4f}, acc={val_acc:.2f}%\")\n"
      ],
      "metadata": {
        "colab": {
          "base_uri": "https://localhost:8080/"
        },
        "id": "-3E3L0mC2A7P",
        "outputId": "edf41f18-2088-4d2c-ad6f-b4e22de19242"
      },
      "execution_count": 12,
      "outputs": [
        {
          "output_type": "stream",
          "name": "stdout",
          "text": [
            "Epoch 1/10 — Train: loss=0.7145, acc=77.27% | Val: loss=0.5169, acc=83.63%\n",
            "Epoch 2/10 — Train: loss=0.5369, acc=83.07% | Val: loss=0.4611, acc=85.49%\n",
            "Epoch 3/10 — Train: loss=0.4796, acc=84.93% | Val: loss=0.4215, acc=86.68%\n",
            "Epoch 4/10 — Train: loss=0.4437, acc=86.14% | Val: loss=0.4257, acc=87.29%\n",
            "Epoch 5/10 — Train: loss=0.4199, acc=87.04% | Val: loss=0.3756, acc=88.58%\n",
            "Epoch 6/10 — Train: loss=0.4026, acc=87.66% | Val: loss=0.3673, acc=89.07%\n",
            "Epoch 7/10 — Train: loss=0.3877, acc=88.18% | Val: loss=0.3592, acc=89.29%\n",
            "Epoch 8/10 — Train: loss=0.3741, acc=88.56% | Val: loss=0.3872, acc=88.61%\n",
            "Epoch 9/10 — Train: loss=0.3650, acc=88.96% | Val: loss=0.3726, acc=89.67%\n",
            "Epoch 10/10 — Train: loss=0.3576, acc=89.39% | Val: loss=0.3616, acc=89.75%\n"
          ]
        }
      ]
    },
    {
      "cell_type": "markdown",
      "source": [
        "## Plots de pérdida y precisión"
      ],
      "metadata": {
        "id": "Z7M-Y0CfDMAY"
      }
    },
    {
      "cell_type": "code",
      "source": [
        "import matplotlib.pyplot as plt\n",
        "\n",
        "epochs = list(range(1, num_epochs+1))\n",
        "\n",
        "plt.figure()\n",
        "plt.plot(epochs, history[\"train_loss\"], marker='o', label=\"Train Loss\")\n",
        "plt.plot(epochs, history[\"val_loss\"],   marker='o', label=\"Val Loss\")\n",
        "plt.xlabel(\"Época\"); plt.ylabel(\"Loss\"); plt.legend(); plt.show()\n",
        "\n",
        "plt.figure()\n",
        "plt.plot(epochs, history[\"train_acc\"], marker='o', label=\"Train Acc\")\n",
        "plt.plot(epochs, history[\"val_acc\"],   marker='o', label=\"Val Acc\")\n",
        "plt.xlabel(\"Época\"); plt.ylabel(\"Accuracy (%)\"); plt.legend(); plt.show()\n"
      ],
      "metadata": {
        "colab": {
          "base_uri": "https://localhost:8080/",
          "height": 885
        },
        "id": "gk-9gS1V2D7y",
        "outputId": "520711dd-3d0d-4f1b-b6ab-9a7631ebb76b"
      },
      "execution_count": 13,
      "outputs": [
        {
          "output_type": "display_data",
          "data": {
            "text/plain": [
              "<Figure size 640x480 with 1 Axes>"
            ],
            "image/png": "[encoded data removed]"
          },
          "metadata": {}
        },
        {
          "output_type": "display_data",
          "data": {
            "text/plain": [
              "<Figure size 640x480 with 1 Axes>"
            ],
            "image/png": "[encoded data removed]"
          },
          "metadata": {}
        }
      ]
    },
    {
      "cell_type": "markdown",
      "source": [
        "## Tests de Predicción"
      ],
      "metadata": {
        "id": "BEfpm_S6DNkF"
      }
    },
    {
      "cell_type": "code",
      "source": [
        "def predict_random_image(model, dataset, class_names=None):\n",
        "    device = torch.device(\"cuda\" if torch.cuda.is_available() else \"cpu\")\n",
        "    model.to(device)\n",
        "    model.eval()\n",
        "\n",
        "    idx = random.randint(0, len(dataset) - 1)\n",
        "    image, label = dataset[idx]\n",
        "    image_input = image.unsqueeze(0).to(device)\n",
        "\n",
        "    with torch.no_grad():\n",
        "        output = model(image_input)\n",
        "        predicted = torch.argmax(output, 1).item()\n",
        "\n",
        "    image_np = image.permute(1, 2, 0).cpu().numpy()\n",
        "    image_np = (image_np * 0.5 + 0.5).clip(0, 1)\n",
        "\n",
        "    plt.imshow(image_np)\n",
        "    plt.title(f\"Real: {label} | Predicho: {predicted}\")\n",
        "    plt.axis('off')\n",
        "    plt.show()"
      ],
      "metadata": {
        "id": "fBUT8fdvCxHw"
      },
      "execution_count": 14,
      "outputs": []
    },
    {
      "cell_type": "code",
      "source": [
        "predict_random_image(model, test_dataset)"
      ],
      "metadata": {
        "colab": {
          "base_uri": "https://localhost:8080/",
          "height": 428
        },
        "id": "ZQLGjbGbCyMH",
        "outputId": "fbb05f23-9705-44a7-a2c5-d1a051bf2592"
      },
      "execution_count": 19,
      "outputs": [
        {
          "output_type": "display_data",
          "data": {
            "text/plain": [
              "<Figure size 640x480 with 1 Axes>"
            ],
            "image/png": "[encoded data removed]"
          },
          "metadata": {}
        }
      ]
    }
  ]
}